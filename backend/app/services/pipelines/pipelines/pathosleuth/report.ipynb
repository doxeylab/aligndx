{
 "cells": [
  {
   "cell_type": "code",
   "execution_count": null,
   "metadata": {
    "tags": [
     "parameters"
    ]
   },
   "outputs": [],
   "source": [
    "bracken = \"/home/nomo/research/aligndx/backend/data/results/bracken_combined.tsv\"\n",
    "software = \"/home/nomo/research/aligndx/backend/data/results/eb11175c-1882-4754-a3cd-f9a21a033ccd/pipeline_info/software_versions.yml\"\n",
    "panel = 'Respiratory'"
   ]
  },
  {
   "cell_type": "code",
   "execution_count": null,
   "metadata": {},
   "outputs": [],
   "source": [
    "#utils\n",
    "from IPython.display import Markdown\n",
    "\n",
    "def makemd(md):\n",
    "    display(Markdown(md))"
   ]
  },
  {
   "attachments": {},
   "cell_type": "markdown",
   "metadata": {},
   "source": [
    "# Detection Table "
   ]
  },
  {
   "cell_type": "code",
   "execution_count": null,
   "metadata": {},
   "outputs": [],
   "source": [
    "import pandas as pd\n",
    "from pathlib import Path\n",
    "\n",
    "panels = Path('__file__').parent / 'panels.csv'\n",
    "\n",
    "selected_panel = \"\"\"\n",
    "Detections were generated using the selected {panel} pathogen panel with an abundance threshold of {thresh}\n",
    "\"\"\"\n",
    "\n",
    "def get_bracken_results(path):\n",
    "    df = pd.read_csv(path, sep='\\t')\n",
    "    df.drop(columns=[\"taxonomy_id\", \"taxonomy_lvl\"], inplace=True)\n",
    "    df = df.loc[:, ~df.columns.str.contains(\"_num\")]\n",
    "    df.columns = df.columns.str.split(r'(_frac)').str.get(0)\n",
    "    return df\n",
    "\n",
    "def create_detection_table(bracken_path, panels_path, panel, thresh):\n",
    "    if Path(bracken_path).exists():\n",
    "        makemd(selected_panel.format(panel=panel, thresh=thresh))\n",
    "        bracken_results = get_bracken_results(bracken_path)\n",
    "        metadata = pd.read_csv(panels_path, sep=',', index_col=0)\n",
    "        pathogens = metadata[metadata[panel] == 'Y'][['Organism description', 'Name']].reset_index(drop=True).rename(columns={'Organism description': 'Pathogen', 'Name':'name'})\n",
    "        pathogens = pathogens.merge(bracken_results, how='left').fillna(0).drop(columns=[\"name\"])\n",
    "        \n",
    "        detections = pathogens.set_index('Pathogen').applymap(lambda x: 'Y' if x > thresh else 'N' )\n",
    "        abundance = pathogens\n",
    "        return (detections, abundance)\n",
    "    else:\n",
    "        return None\n",
    "\n",
    "detections, abundance = create_detection_table(bracken, panels, panel, thresh=0)\n",
    "detections"
   ]
  },
  {
   "attachments": {},
   "cell_type": "markdown",
   "metadata": {},
   "source": [
    "## Relative Abundance Plot\n",
    "An interactive, relative taxonomic abundance plot of species across the submitted samples. Note that human taxa was removed, thus the chart below represents abundance of microbial species, within the fraction of reads detected as microbial.\n"
   ]
  },
  {
   "cell_type": "code",
   "execution_count": null,
   "metadata": {},
   "outputs": [],
   "source": [
    "import plotly.express as px\n",
    "\n",
    "def plot_bracken(df):\n",
    "    # Rename and melt columns\n",
    "    new_columns = {\"variable\": \"Sample\", \"value\": \"Fraction Abundance\"}\n",
    "    new_df = df.melt(id_vars=\"Pathogen\").rename(columns=new_columns)\n",
    "\n",
    "    # Generate express chart\n",
    "    figx = px.bar(new_df, y=\"Sample\", x=\"Fraction Abundance\", color=\"Pathogen\")\n",
    "\n",
    "    figx.update_layout(\n",
    "        yaxis_title=\"Sample\",\n",
    "        xaxis_title=\"Relative Abundance (%)\",\n",
    "        bargap=0,\n",
    "    )\n",
    "    \n",
    "    return figx\n",
    "\n",
    "plot_bracken(abundance)"
   ]
  },
  {
   "attachments": {},
   "cell_type": "markdown",
   "metadata": {},
   "source": [
    "# Software Versions\n",
    "Collected at run time from software output"
   ]
  },
  {
   "cell_type": "code",
   "execution_count": null,
   "metadata": {},
   "outputs": [],
   "source": [
    "import yaml\n",
    "from platform import python_version\n",
    "import pandas as pd\n",
    "\n",
    "with open(software) as f:\n",
    "    versions = yaml.load( f, Loader=yaml.BaseLoader)\n",
    "\n",
    "software_dict = {\n",
    "    'Process Name': [],\n",
    "    'Software': [],\n",
    "    'Version': []\n",
    "}\n",
    "for process, process_values in versions.items():\n",
    "    for software, version in process_values.items():\n",
    "        software_dict['Process Name'].append(process)\n",
    "        software_dict['Software'].append(software)\n",
    "        software_dict['Version'].append(version)\n",
    "\n",
    "software_df = pd.DataFrame.from_dict(software_dict)\n",
    "software_df"
   ]
  }
 ],
 "metadata": {
  "kernelspec": {
   "display_name": "reports",
   "language": "python",
   "name": "python3"
  },
  "language_info": {
   "codemirror_mode": {
    "name": "ipython",
    "version": 3
   },
   "file_extension": ".py",
   "mimetype": "text/x-python",
   "name": "python",
   "nbconvert_exporter": "python",
   "pygments_lexer": "ipython3",
   "version": "3.11.0"
  },
  "orig_nbformat": 4,
  "vscode": {
   "interpreter": {
    "hash": "415fc2c69e6c86251f769b44051bab9e0587a4321cda7b512c8e3415c75e2680"
   }
  }
 },
 "nbformat": 4,
 "nbformat_minor": 2
}
