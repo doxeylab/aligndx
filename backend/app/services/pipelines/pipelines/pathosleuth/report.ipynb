{
 "cells": [
  {
   "cell_type": "code",
   "execution_count": null,
   "metadata": {
    "tags": [
     "parameters"
    ]
   },
   "outputs": [],
   "source": [
    "bracken = \"/home/nomo/research/aligndx/backend/data/results/1d2a5651-5356-42ee-963a-445481629ad5/bracken/bracken_combined.tsv\"\n",
    "software = \"/home/nomo/research/aligndx/backend/data/results/1d2a5651-5356-42ee-963a-445481629ad5/pipeline_info/software_versions.yml\"\n",
    "panels = \"/home/nomo/research/aligndx/backend/data/results/1d2a5651-5356-42ee-963a-445481629ad5/assets/panels.csv\"\n",
    "panel = ['Respiratory']"
   ]
  },
  {
   "cell_type": "code",
   "execution_count": null,
   "metadata": {},
   "outputs": [],
   "source": [
    "#utils\n",
    "from IPython.display import Markdown\n",
    "\n",
    "def makemd(md):\n",
    "    display(Markdown(md))"
   ]
  },
  {
   "cell_type": "code",
   "execution_count": null,
   "metadata": {},
   "outputs": [],
   "source": [
    "import pandas as pd\n",
    "from pathlib import Path\n",
    "\n",
    "selected_panel = \"\"\"\n",
    "# Detections\n",
    "## Detections Table \n",
    "Detections were generated using the selected {panel} pathogen panel with an abundance threshold of {thresh}\n",
    "\"\"\"\n",
    "\n",
    "def get_bracken_results(path):\n",
    "    df = pd.read_csv(path, sep='\\t')\n",
    "    df.drop(columns=[\"taxonomy_id\", \"taxonomy_lvl\"], inplace=True)\n",
    "    df = df.loc[:, ~df.columns.str.contains(\"_num\")]\n",
    "    df.columns = df.columns.str.split(r'(_frac)').str.get(0)\n",
    "    return df\n",
    "\n",
    "def create_detection_table(bracken_path, panels_path, panel, thresh):\n",
    "    if Path(bracken_path).exists():\n",
    "        makemd(selected_panel.format(panel=panel, thresh=thresh))\n",
    "        bracken_results = get_bracken_results(bracken_path)\n",
    "        metadata = pd.read_csv(panels_path, sep=',', index_col=0)\n",
    "        pathogens = metadata[metadata[panel] == 'Y'][['Organism description', 'Name']].reset_index(drop=True).rename(columns={'Organism description': 'Pathogen', 'Name':'name'})\n",
    "        pathogens = pathogens.merge(bracken_results, how='left').fillna(0).drop(columns=[\"name\"])\n",
    "        \n",
    "        detections = pathogens.set_index('Pathogen').applymap(lambda x: 'Y' if x > thresh else 'N' ).reset_index()\n",
    "        abundance = pathogens\n",
    "        return (detections, abundance)\n",
    "    else:\n",
    "        return None\n",
    "\n",
    "detections, abundance = create_detection_table(bracken, panels, panel[0], thresh=0)\n",
    "detections"
   ]
  },
  {
   "cell_type": "code",
   "execution_count": null,
   "metadata": {},
   "outputs": [],
   "source": [
    "import yaml\n",
    "from platform import python_version\n",
    "import pandas as pd\n",
    "\n",
    "software_md = \"\"\"\n",
    "# Software Versions\n",
    "Collected at run time from software output\n",
    "\"\"\"\n",
    "\n",
    "def create_software_table(path):\n",
    "    if Path(path).exists():\n",
    "        makemd(software_md)\n",
    "        with open(path) as f:\n",
    "            versions = yaml.load( f, Loader=yaml.BaseLoader)\n",
    "\n",
    "        software_dict = {\n",
    "            'Process Name': [],\n",
    "            'Software': [],\n",
    "            'Version': []\n",
    "        }\n",
    "        for process, process_values in versions.items():\n",
    "            for software, version in process_values.items():\n",
    "                software_dict['Process Name'].append(process)\n",
    "                software_dict['Software'].append(software)\n",
    "                software_dict['Version'].append(version)\n",
    "        software_df = pd.DataFrame.from_dict(software_dict)\n",
    "        return software_df\n",
    "    else:\n",
    "        return None\n",
    "\n",
    "software_df = create_software_table(software)\n",
    "software_df"
   ]
  }
 ],
 "metadata": {
  "kernelspec": {
   "display_name": "reports",
   "language": "python",
   "name": "python3"
  },
  "language_info": {
   "codemirror_mode": {
    "name": "ipython",
    "version": 3
   },
   "file_extension": ".py",
   "mimetype": "text/x-python",
   "name": "python",
   "nbconvert_exporter": "python",
   "pygments_lexer": "ipython3",
   "version": "3.11.0"
  },
  "orig_nbformat": 4,
  "vscode": {
   "interpreter": {
    "hash": "415fc2c69e6c86251f769b44051bab9e0587a4321cda7b512c8e3415c75e2680"
   }
  }
 },
 "nbformat": 4,
 "nbformat_minor": 2
}
