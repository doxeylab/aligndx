{
 "cells": [
  {
   "cell_type": "code",
   "execution_count": 18,
   "metadata": {},
   "outputs": [],
   "source": [
    "detection = ''"
   ]
  },
  {
   "cell_type": "code",
   "execution_count": 19,
   "metadata": {},
   "outputs": [],
   "source": [
    "#utils\n",
    "from IPython.display import Markdown\n",
    "\n",
    "def makemd(md):\n",
    "    display(Markdown(md))"
   ]
  },
  {
   "cell_type": "code",
   "execution_count": 20,
   "metadata": {},
   "outputs": [],
   "source": [
    "import pandas as pd \n",
    "\n",
    "detection_md = \"\"\"\n",
    "# Detection results\n",
    "\"\"\"\n",
    "\n",
    "if detection:\n",
    "    makemd(detection_md)\n",
    "    df = pd.read_csv(detection, sep=',', index_col=0)\n",
    "else:\n",
    "    df = None\n",
    "df"
   ]
  }
 ],
 "metadata": {
  "kernelspec": {
   "display_name": "base",
   "language": "python",
   "name": "python3"
  },
  "language_info": {
   "codemirror_mode": {
    "name": "ipython",
    "version": 3
   },
   "file_extension": ".py",
   "mimetype": "text/x-python",
   "name": "python",
   "nbconvert_exporter": "python",
   "pygments_lexer": "ipython3",
   "version": "3.9.15"
  },
  "orig_nbformat": 4,
  "vscode": {
   "interpreter": {
    "hash": "fa8b309a83f684b326912dd7d9557ecdb21432bd07ab63aa0060e18fdc30ec5b"
   }
  }
 },
 "nbformat": 4,
 "nbformat_minor": 2
}
