{
 "cells": [
  {
   "cell_type": "code",
   "execution_count": null,
   "metadata": {
    "tags": [
     "parameters"
    ]
   },
   "outputs": [],
   "source": [
    "bracken = \"\"\n",
    "software = \"\""
   ]
  },
  {
   "attachments": {},
   "cell_type": "markdown",
   "metadata": {},
   "source": [
    "# Bracken \n",
    "Bracken (Bayesian Reestimation of Abundance with KrakEN) is a highly accurate statistical method that computes the abundance of species in DNA sequences from a metagenomics sample."
   ]
  },
  {
   "cell_type": "code",
   "execution_count": null,
   "metadata": {},
   "outputs": [],
   "source": [
    "from pathlib import Path\n",
    "import pandas as pd\n",
    "\n",
    "def bracken_results(path):\n",
    "    if Path(path).exists():\n",
    "        df = pd.read_csv(path, sep='\\t')\n",
    "        df.drop(columns=[\"taxonomy_id\", \"taxonomy_lvl\"], inplace=True)\n",
    "        df = df.loc[:, ~df.columns.str.contains(\"_num\")]\n",
    "        df.columns = df.columns.str.split(r'(_frac)').str.get(0)\n",
    "        df.set_index('name', inplace=True)\n",
    "        df = df.nlargest(100,df.columns.to_list(),keep='all')\n",
    "        df.reset_index(inplace=True)\n",
    "        return df\n",
    "    else:\n",
    "        return None\n",
    "\n",
    "bracken_df = bracken_results(bracken)"
   ]
  },
  {
   "attachments": {},
   "cell_type": "markdown",
   "metadata": {},
   "source": [
    "## Relative Abundance Plot\n",
    "An interactive, relative taxonomic abundance plot of the top 100 most represented species across submitted samples. \n"
   ]
  },
  {
   "cell_type": "code",
   "execution_count": null,
   "metadata": {},
   "outputs": [],
   "source": [
    "import plotly.express as px\n",
    "\n",
    "def plot_bracken(df):\n",
    "    if df is not None:\n",
    "        # Rename and melt columns\n",
    "        new_columns = {\"name\": \"Species\", \"variable\": \"Sample\", \"value\": \"Fraction Abundance\"}\n",
    "        new_df = df.melt(id_vars=\"name\").rename(columns=new_columns)\n",
    "\n",
    "        # Generate express chart\n",
    "        figx = px.bar(new_df, y=\"Sample\", x=\"Fraction Abundance\", color=\"Species\")\n",
    "\n",
    "        figx.update_layout(\n",
    "            yaxis_title=\"Sample\",\n",
    "            xaxis_title=\"Relative Abundance (%)\",\n",
    "            bargap=0,\n",
    "        )\n",
    "\n",
    "        return figx\n",
    "    else:\n",
    "        return \n",
    "\n",
    "plot_bracken(bracken_df)"
   ]
  },
  {
   "attachments": {},
   "cell_type": "markdown",
   "metadata": {},
   "source": [
    "## Relative Abundance Table\n",
    "Tabulated top 100 hits  "
   ]
  },
  {
   "cell_type": "code",
   "execution_count": null,
   "metadata": {},
   "outputs": [],
   "source": [
    "bracken_df"
   ]
  },
  {
   "attachments": {},
   "cell_type": "markdown",
   "metadata": {},
   "source": [
    "# Software Versions\n",
    "Collected at run time from software output"
   ]
  },
  {
   "cell_type": "code",
   "execution_count": null,
   "metadata": {},
   "outputs": [],
   "source": [
    "import yaml\n",
    "from platform import python_version\n",
    "import pandas as pd\n",
    "\n",
    "def create_software_table(path):\n",
    "    if Path(path).exists():\n",
    "\n",
    "        with open(path) as f:\n",
    "            versions = yaml.load( f, Loader=yaml.BaseLoader)\n",
    "\n",
    "        software_dict = {\n",
    "            'Process Name': [],\n",
    "            'Software': [],\n",
    "            'Version': []\n",
    "        }\n",
    "        for process, process_values in versions.items():\n",
    "            for software, version in process_values.items():\n",
    "                software_dict['Process Name'].append(process)\n",
    "                software_dict['Software'].append(software)\n",
    "                software_dict['Version'].append(version)\n",
    "        software_df = pd.DataFrame.from_dict(software_dict)\n",
    "        return software_df\n",
    "    else:\n",
    "        return None\n",
    "\n",
    "software_df = create_software_table(software)\n",
    "software_df"
   ]
  }
 ],
 "metadata": {
  "kernelspec": {
   "display_name": "Python 3",
   "language": "python",
   "name": "python3"
  },
  "language_info": {
   "name": "python",
   "version": "3.8.10"
  },
  "orig_nbformat": 4,
  "vscode": {
   "interpreter": {
    "hash": "31f2aee4e71d21fbe5cf8b01ff0e069b9275f58929596ceb00d14d90e3e16cd6"
   }
  }
 },
 "nbformat": 4,
 "nbformat_minor": 2
}
